{
  "cells": [
    {
      "cell_type": "markdown",
      "source": [
        "\n",
        "# installation\n",
        "\n",
        "\n",
        "\n"
      ],
      "metadata": {
        "id": "_G3uGCRwyxuq"
      }
    },
    {
      "cell_type": "code",
      "execution_count": null,
      "metadata": {
        "colab": {
          "base_uri": "https://localhost:8080/",
          "height": 1000
        },
        "collapsed": true,
        "id": "Syw-rRr_4oxx",
        "outputId": "9bc52d07-ee47-4b50-b7f1-d67235a037c0"
      },
      "outputs": [
        {
          "output_type": "stream",
          "name": "stdout",
          "text": [
            "Requirement already satisfied: torch in /usr/local/lib/python3.10/dist-packages (2.3.1+cu121)\n",
            "Collecting torch\n",
            "  Downloading torch-2.4.0-cp310-cp310-manylinux1_x86_64.whl.metadata (26 kB)\n",
            "Requirement already satisfied: torchvision in /usr/local/lib/python3.10/dist-packages (0.18.1+cu121)\n",
            "Collecting torchvision\n",
            "  Downloading torchvision-0.19.0-cp310-cp310-manylinux1_x86_64.whl.metadata (6.0 kB)\n",
            "Requirement already satisfied: filelock in /usr/local/lib/python3.10/dist-packages (from torch) (3.15.4)\n",
            "Requirement already satisfied: typing-extensions>=4.8.0 in /usr/local/lib/python3.10/dist-packages (from torch) (4.12.2)\n",
            "Requirement already satisfied: sympy in /usr/local/lib/python3.10/dist-packages (from torch) (1.13.2)\n",
            "Requirement already satisfied: networkx in /usr/local/lib/python3.10/dist-packages (from torch) (3.3)\n",
            "Requirement already satisfied: jinja2 in /usr/local/lib/python3.10/dist-packages (from torch) (3.1.4)\n",
            "Requirement already satisfied: fsspec in /usr/local/lib/python3.10/dist-packages (from torch) (2024.6.1)\n",
            "Collecting nvidia-cuda-nvrtc-cu12==12.1.105 (from torch)\n",
            "  Using cached nvidia_cuda_nvrtc_cu12-12.1.105-py3-none-manylinux1_x86_64.whl.metadata (1.5 kB)\n",
            "Collecting nvidia-cuda-runtime-cu12==12.1.105 (from torch)\n",
            "  Using cached nvidia_cuda_runtime_cu12-12.1.105-py3-none-manylinux1_x86_64.whl.metadata (1.5 kB)\n",
            "Collecting nvidia-cuda-cupti-cu12==12.1.105 (from torch)\n",
            "  Using cached nvidia_cuda_cupti_cu12-12.1.105-py3-none-manylinux1_x86_64.whl.metadata (1.6 kB)\n",
            "Collecting nvidia-cudnn-cu12==9.1.0.70 (from torch)\n",
            "  Downloading nvidia_cudnn_cu12-9.1.0.70-py3-none-manylinux2014_x86_64.whl.metadata (1.6 kB)\n",
            "Collecting nvidia-cublas-cu12==12.1.3.1 (from torch)\n",
            "  Using cached nvidia_cublas_cu12-12.1.3.1-py3-none-manylinux1_x86_64.whl.metadata (1.5 kB)\n",
            "Collecting nvidia-cufft-cu12==11.0.2.54 (from torch)\n",
            "  Using cached nvidia_cufft_cu12-11.0.2.54-py3-none-manylinux1_x86_64.whl.metadata (1.5 kB)\n",
            "Collecting nvidia-curand-cu12==10.3.2.106 (from torch)\n",
            "  Using cached nvidia_curand_cu12-10.3.2.106-py3-none-manylinux1_x86_64.whl.metadata (1.5 kB)\n",
            "Collecting nvidia-cusolver-cu12==11.4.5.107 (from torch)\n",
            "  Using cached nvidia_cusolver_cu12-11.4.5.107-py3-none-manylinux1_x86_64.whl.metadata (1.6 kB)\n",
            "Collecting nvidia-cusparse-cu12==12.1.0.106 (from torch)\n",
            "  Using cached nvidia_cusparse_cu12-12.1.0.106-py3-none-manylinux1_x86_64.whl.metadata (1.6 kB)\n",
            "Collecting nvidia-nccl-cu12==2.20.5 (from torch)\n",
            "  Using cached nvidia_nccl_cu12-2.20.5-py3-none-manylinux2014_x86_64.whl.metadata (1.8 kB)\n",
            "Collecting nvidia-nvtx-cu12==12.1.105 (from torch)\n",
            "  Using cached nvidia_nvtx_cu12-12.1.105-py3-none-manylinux1_x86_64.whl.metadata (1.7 kB)\n",
            "Collecting triton==3.0.0 (from torch)\n",
            "  Downloading triton-3.0.0-1-cp310-cp310-manylinux2014_x86_64.manylinux_2_17_x86_64.whl.metadata (1.3 kB)\n",
            "Collecting nvidia-nvjitlink-cu12 (from nvidia-cusolver-cu12==11.4.5.107->torch)\n",
            "  Using cached nvidia_nvjitlink_cu12-12.6.20-py3-none-manylinux2014_x86_64.whl.metadata (1.5 kB)\n",
            "Requirement already satisfied: numpy in /usr/local/lib/python3.10/dist-packages (from torchvision) (1.26.4)\n",
            "Requirement already satisfied: pillow!=8.3.*,>=5.3.0 in /usr/local/lib/python3.10/dist-packages (from torchvision) (9.4.0)\n",
            "Requirement already satisfied: MarkupSafe>=2.0 in /usr/local/lib/python3.10/dist-packages (from jinja2->torch) (2.1.5)\n",
            "Requirement already satisfied: mpmath<1.4,>=1.1.0 in /usr/local/lib/python3.10/dist-packages (from sympy->torch) (1.3.0)\n",
            "Downloading torch-2.4.0-cp310-cp310-manylinux1_x86_64.whl (797.2 MB)\n",
            "\u001b[2K   \u001b[90m━━━━━━━━━━━━━━━━━━━━━━━━━━━━━━━━━━━━━━━━\u001b[0m \u001b[32m797.2/797.2 MB\u001b[0m \u001b[31m1.6 MB/s\u001b[0m eta \u001b[36m0:00:00\u001b[0m\n",
            "\u001b[?25hUsing cached nvidia_cublas_cu12-12.1.3.1-py3-none-manylinux1_x86_64.whl (410.6 MB)\n",
            "Using cached nvidia_cuda_cupti_cu12-12.1.105-py3-none-manylinux1_x86_64.whl (14.1 MB)\n",
            "Using cached nvidia_cuda_nvrtc_cu12-12.1.105-py3-none-manylinux1_x86_64.whl (23.7 MB)\n",
            "Using cached nvidia_cuda_runtime_cu12-12.1.105-py3-none-manylinux1_x86_64.whl (823 kB)\n",
            "Downloading nvidia_cudnn_cu12-9.1.0.70-py3-none-manylinux2014_x86_64.whl (664.8 MB)\n",
            "\u001b[2K   \u001b[90m━━━━━━━━━━━━━━━━━━━━━━━━━━━━━━━━━━━━━━━━\u001b[0m \u001b[32m664.8/664.8 MB\u001b[0m \u001b[31m1.8 MB/s\u001b[0m eta \u001b[36m0:00:00\u001b[0m\n",
            "\u001b[?25hUsing cached nvidia_cufft_cu12-11.0.2.54-py3-none-manylinux1_x86_64.whl (121.6 MB)\n",
            "Using cached nvidia_curand_cu12-10.3.2.106-py3-none-manylinux1_x86_64.whl (56.5 MB)\n",
            "Using cached nvidia_cusolver_cu12-11.4.5.107-py3-none-manylinux1_x86_64.whl (124.2 MB)\n",
            "Using cached nvidia_cusparse_cu12-12.1.0.106-py3-none-manylinux1_x86_64.whl (196.0 MB)\n",
            "Using cached nvidia_nccl_cu12-2.20.5-py3-none-manylinux2014_x86_64.whl (176.2 MB)\n",
            "Using cached nvidia_nvtx_cu12-12.1.105-py3-none-manylinux1_x86_64.whl (99 kB)\n",
            "Downloading triton-3.0.0-1-cp310-cp310-manylinux2014_x86_64.manylinux_2_17_x86_64.whl (209.4 MB)\n",
            "\u001b[2K   \u001b[90m━━━━━━━━━━━━━━━━━━━━━━━━━━━━━━━━━━━━━━━━\u001b[0m \u001b[32m209.4/209.4 MB\u001b[0m \u001b[31m5.3 MB/s\u001b[0m eta \u001b[36m0:00:00\u001b[0m\n",
            "\u001b[?25hDownloading torchvision-0.19.0-cp310-cp310-manylinux1_x86_64.whl (7.0 MB)\n",
            "\u001b[2K   \u001b[90m━━━━━━━━━━━━━━━━━━━━━━━━━━━━━━━━━━━━━━━━\u001b[0m \u001b[32m7.0/7.0 MB\u001b[0m \u001b[31m79.0 MB/s\u001b[0m eta \u001b[36m0:00:00\u001b[0m\n",
            "\u001b[?25hUsing cached nvidia_nvjitlink_cu12-12.6.20-py3-none-manylinux2014_x86_64.whl (19.7 MB)\n",
            "Installing collected packages: triton, nvidia-nvtx-cu12, nvidia-nvjitlink-cu12, nvidia-nccl-cu12, nvidia-curand-cu12, nvidia-cufft-cu12, nvidia-cuda-runtime-cu12, nvidia-cuda-nvrtc-cu12, nvidia-cuda-cupti-cu12, nvidia-cublas-cu12, nvidia-cusparse-cu12, nvidia-cudnn-cu12, nvidia-cusolver-cu12, torch, torchvision\n",
            "  Attempting uninstall: triton\n",
            "    Found existing installation: triton 2.3.1\n",
            "    Uninstalling triton-2.3.1:\n",
            "      Successfully uninstalled triton-2.3.1\n",
            "  Attempting uninstall: torch\n",
            "    Found existing installation: torch 2.3.1+cu121\n",
            "    Uninstalling torch-2.3.1+cu121:\n",
            "      Successfully uninstalled torch-2.3.1+cu121\n",
            "  Attempting uninstall: torchvision\n",
            "    Found existing installation: torchvision 0.18.1+cu121\n",
            "    Uninstalling torchvision-0.18.1+cu121:\n",
            "      Successfully uninstalled torchvision-0.18.1+cu121\n",
            "\u001b[31mERROR: pip's dependency resolver does not currently take into account all the packages that are installed. This behaviour is the source of the following dependency conflicts.\n",
            "torchaudio 2.3.1+cu121 requires torch==2.3.1, but you have torch 2.4.0 which is incompatible.\u001b[0m\u001b[31m\n",
            "\u001b[0mSuccessfully installed nvidia-cublas-cu12-12.1.3.1 nvidia-cuda-cupti-cu12-12.1.105 nvidia-cuda-nvrtc-cu12-12.1.105 nvidia-cuda-runtime-cu12-12.1.105 nvidia-cudnn-cu12-9.1.0.70 nvidia-cufft-cu12-11.0.2.54 nvidia-curand-cu12-10.3.2.106 nvidia-cusolver-cu12-11.4.5.107 nvidia-cusparse-cu12-12.1.0.106 nvidia-nccl-cu12-2.20.5 nvidia-nvjitlink-cu12-12.6.20 nvidia-nvtx-cu12-12.1.105 torch-2.4.0 torchvision-0.19.0 triton-3.0.0\n",
            "Cloning into 'yolov5'...\n",
            "remote: Enumerating objects: 16888, done.\u001b[K\n",
            "remote: Counting objects: 100% (63/63), done.\u001b[K\n",
            "remote: Compressing objects: 100% (55/55), done.\u001b[K\n",
            "remote: Total 16888 (delta 22), reused 33 (delta 8), pack-reused 16825 (from 1)\u001b[K\n",
            "Receiving objects: 100% (16888/16888), 15.64 MiB | 20.30 MiB/s, done.\n",
            "Resolving deltas: 100% (11566/11566), done.\n",
            "/content/yolov5\n",
            "Collecting gitpython>=3.1.30 (from -r requirements.txt (line 5))\n",
            "  Downloading GitPython-3.1.43-py3-none-any.whl.metadata (13 kB)\n",
            "Requirement already satisfied: matplotlib>=3.3 in /usr/local/lib/python3.10/dist-packages (from -r requirements.txt (line 6)) (3.7.1)\n",
            "Requirement already satisfied: numpy>=1.23.5 in /usr/local/lib/python3.10/dist-packages (from -r requirements.txt (line 7)) (1.26.4)\n",
            "Requirement already satisfied: opencv-python>=4.1.1 in /usr/local/lib/python3.10/dist-packages (from -r requirements.txt (line 8)) (4.10.0.84)\n",
            "Collecting pillow>=10.3.0 (from -r requirements.txt (line 9))\n",
            "  Downloading pillow-10.4.0-cp310-cp310-manylinux_2_28_x86_64.whl.metadata (9.2 kB)\n",
            "Requirement already satisfied: psutil in /usr/local/lib/python3.10/dist-packages (from -r requirements.txt (line 10)) (5.9.5)\n",
            "Requirement already satisfied: PyYAML>=5.3.1 in /usr/local/lib/python3.10/dist-packages (from -r requirements.txt (line 11)) (6.0.2)\n",
            "Requirement already satisfied: requests>=2.32.0 in /usr/local/lib/python3.10/dist-packages (from -r requirements.txt (line 12)) (2.32.3)\n",
            "Requirement already satisfied: scipy>=1.4.1 in /usr/local/lib/python3.10/dist-packages (from -r requirements.txt (line 13)) (1.13.1)\n",
            "Collecting thop>=0.1.1 (from -r requirements.txt (line 14))\n",
            "  Downloading thop-0.1.1.post2209072238-py3-none-any.whl.metadata (2.7 kB)\n",
            "Requirement already satisfied: torch>=1.8.0 in /usr/local/lib/python3.10/dist-packages (from -r requirements.txt (line 15)) (2.4.0)\n",
            "Requirement already satisfied: torchvision>=0.9.0 in /usr/local/lib/python3.10/dist-packages (from -r requirements.txt (line 16)) (0.19.0)\n",
            "Requirement already satisfied: tqdm>=4.64.0 in /usr/local/lib/python3.10/dist-packages (from -r requirements.txt (line 17)) (4.66.5)\n",
            "Collecting ultralytics>=8.2.34 (from -r requirements.txt (line 18))\n",
            "  Downloading ultralytics-8.2.79-py3-none-any.whl.metadata (41 kB)\n",
            "\u001b[2K     \u001b[90m━━━━━━━━━━━━━━━━━━━━━━━━━━━━━━━━━━━━━━━━\u001b[0m \u001b[32m41.3/41.3 kB\u001b[0m \u001b[31m1.6 MB/s\u001b[0m eta \u001b[36m0:00:00\u001b[0m\n",
            "\u001b[?25hRequirement already satisfied: pandas>=1.1.4 in /usr/local/lib/python3.10/dist-packages (from -r requirements.txt (line 27)) (2.1.4)\n",
            "Requirement already satisfied: seaborn>=0.11.0 in /usr/local/lib/python3.10/dist-packages (from -r requirements.txt (line 28)) (0.13.1)\n",
            "Requirement already satisfied: setuptools>=70.0.0 in /usr/local/lib/python3.10/dist-packages (from -r requirements.txt (line 42)) (71.0.4)\n",
            "Collecting gitdb<5,>=4.0.1 (from gitpython>=3.1.30->-r requirements.txt (line 5))\n",
            "  Downloading gitdb-4.0.11-py3-none-any.whl.metadata (1.2 kB)\n",
            "Requirement already satisfied: contourpy>=1.0.1 in /usr/local/lib/python3.10/dist-packages (from matplotlib>=3.3->-r requirements.txt (line 6)) (1.2.1)\n",
            "Requirement already satisfied: cycler>=0.10 in /usr/local/lib/python3.10/dist-packages (from matplotlib>=3.3->-r requirements.txt (line 6)) (0.12.1)\n",
            "Requirement already satisfied: fonttools>=4.22.0 in /usr/local/lib/python3.10/dist-packages (from matplotlib>=3.3->-r requirements.txt (line 6)) (4.53.1)\n",
            "Requirement already satisfied: kiwisolver>=1.0.1 in /usr/local/lib/python3.10/dist-packages (from matplotlib>=3.3->-r requirements.txt (line 6)) (1.4.5)\n",
            "Requirement already satisfied: packaging>=20.0 in /usr/local/lib/python3.10/dist-packages (from matplotlib>=3.3->-r requirements.txt (line 6)) (24.1)\n",
            "Requirement already satisfied: pyparsing>=2.3.1 in /usr/local/lib/python3.10/dist-packages (from matplotlib>=3.3->-r requirements.txt (line 6)) (3.1.2)\n",
            "Requirement already satisfied: python-dateutil>=2.7 in /usr/local/lib/python3.10/dist-packages (from matplotlib>=3.3->-r requirements.txt (line 6)) (2.8.2)\n",
            "Requirement already satisfied: charset-normalizer<4,>=2 in /usr/local/lib/python3.10/dist-packages (from requests>=2.32.0->-r requirements.txt (line 12)) (3.3.2)\n",
            "Requirement already satisfied: idna<4,>=2.5 in /usr/local/lib/python3.10/dist-packages (from requests>=2.32.0->-r requirements.txt (line 12)) (3.7)\n",
            "Requirement already satisfied: urllib3<3,>=1.21.1 in /usr/local/lib/python3.10/dist-packages (from requests>=2.32.0->-r requirements.txt (line 12)) (2.0.7)\n",
            "Requirement already satisfied: certifi>=2017.4.17 in /usr/local/lib/python3.10/dist-packages (from requests>=2.32.0->-r requirements.txt (line 12)) (2024.7.4)\n",
            "Requirement already satisfied: filelock in /usr/local/lib/python3.10/dist-packages (from torch>=1.8.0->-r requirements.txt (line 15)) (3.15.4)\n",
            "Requirement already satisfied: typing-extensions>=4.8.0 in /usr/local/lib/python3.10/dist-packages (from torch>=1.8.0->-r requirements.txt (line 15)) (4.12.2)\n",
            "Requirement already satisfied: sympy in /usr/local/lib/python3.10/dist-packages (from torch>=1.8.0->-r requirements.txt (line 15)) (1.13.2)\n",
            "Requirement already satisfied: networkx in /usr/local/lib/python3.10/dist-packages (from torch>=1.8.0->-r requirements.txt (line 15)) (3.3)\n",
            "Requirement already satisfied: jinja2 in /usr/local/lib/python3.10/dist-packages (from torch>=1.8.0->-r requirements.txt (line 15)) (3.1.4)\n",
            "Requirement already satisfied: fsspec in /usr/local/lib/python3.10/dist-packages (from torch>=1.8.0->-r requirements.txt (line 15)) (2024.6.1)\n",
            "Requirement already satisfied: nvidia-cuda-nvrtc-cu12==12.1.105 in /usr/local/lib/python3.10/dist-packages (from torch>=1.8.0->-r requirements.txt (line 15)) (12.1.105)\n",
            "Requirement already satisfied: nvidia-cuda-runtime-cu12==12.1.105 in /usr/local/lib/python3.10/dist-packages (from torch>=1.8.0->-r requirements.txt (line 15)) (12.1.105)\n",
            "Requirement already satisfied: nvidia-cuda-cupti-cu12==12.1.105 in /usr/local/lib/python3.10/dist-packages (from torch>=1.8.0->-r requirements.txt (line 15)) (12.1.105)\n",
            "Requirement already satisfied: nvidia-cudnn-cu12==9.1.0.70 in /usr/local/lib/python3.10/dist-packages (from torch>=1.8.0->-r requirements.txt (line 15)) (9.1.0.70)\n",
            "Requirement already satisfied: nvidia-cublas-cu12==12.1.3.1 in /usr/local/lib/python3.10/dist-packages (from torch>=1.8.0->-r requirements.txt (line 15)) (12.1.3.1)\n",
            "Requirement already satisfied: nvidia-cufft-cu12==11.0.2.54 in /usr/local/lib/python3.10/dist-packages (from torch>=1.8.0->-r requirements.txt (line 15)) (11.0.2.54)\n",
            "Requirement already satisfied: nvidia-curand-cu12==10.3.2.106 in /usr/local/lib/python3.10/dist-packages (from torch>=1.8.0->-r requirements.txt (line 15)) (10.3.2.106)\n",
            "Requirement already satisfied: nvidia-cusolver-cu12==11.4.5.107 in /usr/local/lib/python3.10/dist-packages (from torch>=1.8.0->-r requirements.txt (line 15)) (11.4.5.107)\n",
            "Requirement already satisfied: nvidia-cusparse-cu12==12.1.0.106 in /usr/local/lib/python3.10/dist-packages (from torch>=1.8.0->-r requirements.txt (line 15)) (12.1.0.106)\n",
            "Requirement already satisfied: nvidia-nccl-cu12==2.20.5 in /usr/local/lib/python3.10/dist-packages (from torch>=1.8.0->-r requirements.txt (line 15)) (2.20.5)\n",
            "Requirement already satisfied: nvidia-nvtx-cu12==12.1.105 in /usr/local/lib/python3.10/dist-packages (from torch>=1.8.0->-r requirements.txt (line 15)) (12.1.105)\n",
            "Requirement already satisfied: triton==3.0.0 in /usr/local/lib/python3.10/dist-packages (from torch>=1.8.0->-r requirements.txt (line 15)) (3.0.0)\n",
            "Requirement already satisfied: nvidia-nvjitlink-cu12 in /usr/local/lib/python3.10/dist-packages (from nvidia-cusolver-cu12==11.4.5.107->torch>=1.8.0->-r requirements.txt (line 15)) (12.6.20)\n",
            "Requirement already satisfied: py-cpuinfo in /usr/local/lib/python3.10/dist-packages (from ultralytics>=8.2.34->-r requirements.txt (line 18)) (9.0.0)\n",
            "Collecting ultralytics-thop>=2.0.0 (from ultralytics>=8.2.34->-r requirements.txt (line 18))\n",
            "  Downloading ultralytics_thop-2.0.5-py3-none-any.whl.metadata (8.9 kB)\n",
            "Requirement already satisfied: pytz>=2020.1 in /usr/local/lib/python3.10/dist-packages (from pandas>=1.1.4->-r requirements.txt (line 27)) (2024.1)\n",
            "Requirement already satisfied: tzdata>=2022.1 in /usr/local/lib/python3.10/dist-packages (from pandas>=1.1.4->-r requirements.txt (line 27)) (2024.1)\n",
            "Collecting smmap<6,>=3.0.1 (from gitdb<5,>=4.0.1->gitpython>=3.1.30->-r requirements.txt (line 5))\n",
            "  Downloading smmap-5.0.1-py3-none-any.whl.metadata (4.3 kB)\n",
            "Requirement already satisfied: six>=1.5 in /usr/local/lib/python3.10/dist-packages (from python-dateutil>=2.7->matplotlib>=3.3->-r requirements.txt (line 6)) (1.16.0)\n",
            "Requirement already satisfied: MarkupSafe>=2.0 in /usr/local/lib/python3.10/dist-packages (from jinja2->torch>=1.8.0->-r requirements.txt (line 15)) (2.1.5)\n",
            "Requirement already satisfied: mpmath<1.4,>=1.1.0 in /usr/local/lib/python3.10/dist-packages (from sympy->torch>=1.8.0->-r requirements.txt (line 15)) (1.3.0)\n",
            "Downloading GitPython-3.1.43-py3-none-any.whl (207 kB)\n",
            "\u001b[2K   \u001b[90m━━━━━━━━━━━━━━━━━━━━━━━━━━━━━━━━━━━━━━━━\u001b[0m \u001b[32m207.3/207.3 kB\u001b[0m \u001b[31m6.0 MB/s\u001b[0m eta \u001b[36m0:00:00\u001b[0m\n",
            "\u001b[?25hDownloading pillow-10.4.0-cp310-cp310-manylinux_2_28_x86_64.whl (4.5 MB)\n",
            "\u001b[2K   \u001b[90m━━━━━━━━━━━━━━━━━━━━━━━━━━━━━━━━━━━━━━━━\u001b[0m \u001b[32m4.5/4.5 MB\u001b[0m \u001b[31m40.8 MB/s\u001b[0m eta \u001b[36m0:00:00\u001b[0m\n",
            "\u001b[?25hDownloading thop-0.1.1.post2209072238-py3-none-any.whl (15 kB)\n",
            "Downloading ultralytics-8.2.79-py3-none-any.whl (869 kB)\n",
            "\u001b[2K   \u001b[90m━━━━━━━━━━━━━━━━━━━━━━━━━━━━━━━━━━━━━━━━\u001b[0m \u001b[32m869.1/869.1 kB\u001b[0m \u001b[31m33.6 MB/s\u001b[0m eta \u001b[36m0:00:00\u001b[0m\n",
            "\u001b[?25hDownloading gitdb-4.0.11-py3-none-any.whl (62 kB)\n",
            "\u001b[2K   \u001b[90m━━━━━━━━━━━━━━━━━━━━━━━━━━━━━━━━━━━━━━━━\u001b[0m \u001b[32m62.7/62.7 kB\u001b[0m \u001b[31m4.7 MB/s\u001b[0m eta \u001b[36m0:00:00\u001b[0m\n",
            "\u001b[?25hDownloading ultralytics_thop-2.0.5-py3-none-any.whl (25 kB)\n",
            "Downloading smmap-5.0.1-py3-none-any.whl (24 kB)\n",
            "Installing collected packages: smmap, pillow, gitdb, gitpython, ultralytics-thop, thop, ultralytics\n",
            "  Attempting uninstall: pillow\n",
            "    Found existing installation: Pillow 9.4.0\n",
            "    Uninstalling Pillow-9.4.0:\n",
            "      Successfully uninstalled Pillow-9.4.0\n",
            "Successfully installed gitdb-4.0.11 gitpython-3.1.43 pillow-10.4.0 smmap-5.0.1 thop-0.1.1.post2209072238 ultralytics-8.2.79 ultralytics-thop-2.0.5\n"
          ]
        },
        {
          "output_type": "display_data",
          "data": {
            "application/vnd.colab-display-data+json": {
              "pip_warning": {
                "packages": [
                  "PIL"
                ]
              },
              "id": "8ab7f37993e4477fa7285bf7aceb0c99"
            }
          },
          "metadata": {}
        }
      ],
      "source": [
        "!pip install -U torch torchvision\n",
        "!git clone https://github.com/ultralytics/yolov5\n",
        "%cd yolov5\n",
        "!pip install -r requirements.txt"
      ]
    },
    {
      "cell_type": "code",
      "execution_count": null,
      "metadata": {
        "colab": {
          "base_uri": "https://localhost:8080/"
        },
        "id": "715nMrnQ5cKU",
        "outputId": "63f66ba8-c3a2-4113-c7e7-8eb545904271"
      },
      "outputs": [
        {
          "output_type": "stream",
          "name": "stdout",
          "text": [
            "  File \"/content/yolov5/models/yolov5s.yaml\", line 7\n",
            "    anchors:\n",
            "            ^\n",
            "SyntaxError: invalid syntax\n"
          ]
        }
      ],
      "source": [
        "!python models/yolov5s.yaml\n"
      ]
    },
    {
      "cell_type": "code",
      "execution_count": null,
      "metadata": {
        "colab": {
          "base_uri": "https://localhost:8080/"
        },
        "id": "bzBhjS7CrQMj",
        "outputId": "fb14e3e2-4bef-424b-f20f-6c8cfc98b8d2"
      },
      "outputs": [
        {
          "output_type": "stream",
          "name": "stdout",
          "text": [
            "Drive already mounted at /content/drive; to attempt to forcibly remount, call drive.mount(\"/content/drive\", force_remount=True).\n"
          ]
        }
      ],
      "source": [
        "from google.colab import drive\n",
        "drive.mount('/content/drive')"
      ]
    },
    {
      "cell_type": "markdown",
      "source": [
        "# making dir for dataset"
      ],
      "metadata": {
        "id": "SPinwVnwzMdM"
      }
    },
    {
      "cell_type": "code",
      "execution_count": null,
      "metadata": {
        "id": "kZoJz_wK5g2u"
      },
      "outputs": [],
      "source": [
        "# directories for your dataset\n",
        "import os\n",
        "import shutil\n",
        "\n",
        "dataset_path = '/content/drive/MyDrive/dataset2_output'\n",
        "images_dir = os.path.join(dataset_path, 'images')\n",
        "labels_dir = os.path.join(dataset_path, 'labels')"
      ]
    },
    {
      "cell_type": "code",
      "execution_count": null,
      "metadata": {
        "id": "4sUENru26erC"
      },
      "outputs": [],
      "source": [
        "import os\n",
        "\n",
        "# Paths to dataset directories\n",
        "dataset_path = '/content/drive/MyDrive/dataset2_output'\n",
        "train_images = os.path.join(dataset_path, 'images/train')\n",
        "val_images = os.path.join(dataset_path, 'images/val')\n",
        "test_images = os.path.join(dataset_path, 'images/test')\n",
        "\n",
        "train_labels = os.path.join(dataset_path, 'labels/train')\n",
        "val_labels = os.path.join(dataset_path, 'labels/val')\n",
        "test_labels = os.path.join(dataset_path, 'labels/test')\n",
        "\n",
        "number_of_classes = 2\n",
        "\n",
        "class_names = ['non-dangerous', 'dangerous']\n",
        "\n",
        "#  data.yaml file content\n",
        "data_yaml = f\"\"\"\n",
        "train: {train_images}\n",
        "val: {val_images}\n",
        "test: {test_images}\n",
        "\n",
        "nc: {number_of_classes}\n",
        "names: {class_names}\n",
        "\"\"\"\n",
        "\n",
        "with open('data.yaml', 'w') as f:\n",
        "    f.write(data_yaml)"
      ]
    },
    {
      "cell_type": "markdown",
      "source": [],
      "metadata": {
        "id": "dy8qz8kFzbUP"
      }
    },
    {
      "cell_type": "code",
      "execution_count": null,
      "metadata": {
        "collapsed": true,
        "id": "5v5O_n0D4oug"
      },
      "outputs": [],
      "source": [
        "# Train YOLOv5\n",
        "!python train.py --img 640 --batch 16 --epochs 20 --data data.yaml --weights yolov5s.pt > train_log.txt\n"
      ]
    },
    {
      "cell_type": "code",
      "execution_count": null,
      "metadata": {
        "id": "D9Nh_2ed4opD",
        "colab": {
          "base_uri": "https://localhost:8080/"
        },
        "outputId": "85dd69dd-fbfd-49c0-9fff-859927564e49"
      },
      "outputs": [
        {
          "output_type": "stream",
          "name": "stdout",
          "text": [
            "\u001b[34m\u001b[1mval: \u001b[0mdata=data.yaml, weights=['/content/yolov5/runs/train/exp/weights/best.pt'], batch_size=32, imgsz=640, conf_thres=0.25, iou_thres=0.45, max_det=300, task=val, device=, workers=8, single_cls=False, augment=False, verbose=False, save_txt=False, save_hybrid=False, save_conf=False, save_json=False, project=runs/val, name=exp, exist_ok=False, half=False, dnn=False\n",
            "WARNING ⚠️ confidence threshold 0.25 > 0.001 produces invalid results\n",
            "YOLOv5 🚀 v7.0-354-gb86f316e Python-3.10.12 torch-2.4.0+cu121 CPU\n",
            "\n",
            "Fusing layers... \n",
            "Model summary: 157 layers, 7015519 parameters, 0 gradients, 15.8 GFLOPs\n",
            "\u001b[34m\u001b[1mval: \u001b[0mScanning /content/drive/MyDrive/dataset2_output/labels/val.cache... 53 images, 23 backgrounds, 0 corrupt: 100% 53/53 [00:00<?, ?it/s]\n",
            "                 Class     Images  Instances          P          R      mAP50   mAP50-95: 100% 2/2 [00:39<00:00, 19.66s/it]\n",
            "                   all         53        105      0.412      0.304      0.366      0.274\n",
            "         non-dangerous         53         92      0.824      0.609      0.732      0.548\n",
            "             dangerous         53         13          0          0          0          0\n",
            "Speed: 12.9ms pre-process, 688.5ms inference, 0.4ms NMS per image at shape (32, 3, 640, 640)\n",
            "Results saved to \u001b[1mruns/val/exp2\u001b[0m\n"
          ]
        }
      ],
      "source": [
        "! python val.py --weights /content/yolov5/runs/train/exp/weights/best.pt --data data.yaml --img 640 --conf 0.25 --iou 0.45 --task val\n"
      ]
    },
    {
      "cell_type": "code",
      "execution_count": null,
      "metadata": {
        "id": "xVKSxvNMHWgm",
        "colab": {
          "base_uri": "https://localhost:8080/"
        },
        "outputId": "2a1e37d9-d4f6-449a-a2d2-ff2bfeb8a5c3"
      },
      "outputs": [
        {
          "output_type": "stream",
          "name": "stdout",
          "text": [
            "Testing Accuracy: 0.7891\n"
          ]
        }
      ],
      "source": [
        "import numpy as np\n",
        "\n",
        "confusion_matrix_data = np.array([\n",
        "    [641, 109, 0],  # Non-dangerous (true label) row\n",
        "    [89, 100, 0],   # Dangerous (true label) row\n",
        "    [0, 0, 0]       # Background row (not used in accuracy calculation)\n",
        "])\n",
        "\n",
        "true_positives = np.diag(confusion_matrix_data[:2, :2]).sum()\n",
        "\n",
        "# total number of testing samples\n",
        "total_samples = confusion_matrix_data[:2, :2].sum()\n",
        "\n",
        "#  testing accuracy\n",
        "testing_accuracy = true_positives / total_samples\n",
        "\n",
        "print(f'Testing Accuracy: {testing_accuracy:.4f}')\n"
      ]
    },
    {
      "cell_type": "code",
      "execution_count": null,
      "metadata": {
        "id": "a369bAOvTisS",
        "colab": {
          "base_uri": "https://localhost:8080/",
          "height": 499
        },
        "outputId": "e68e1331-08b3-47d4-95cd-17d45bb7aac6"
      },
      "outputs": [
        {
          "output_type": "display_data",
          "data": {
            "text/plain": [
              "<Figure size 600x600 with 2 Axes>"
            ],
            "image/png": "[encoded data removed]"
          },
          "metadata": {}
        }
      ],
      "source": [
        "import numpy as np\n",
        "import matplotlib.pyplot as plt\n",
        "import seaborn as sns\n",
        "\n",
        "confusion_matrix_data = np.array([\n",
        "    [641, 109, 0],  # Non-dangerous (true label) row\n",
        "    [89, 100, 0],   # Dangerous (true label) row\n",
        "    [0, 0, 0]       # Background row\n",
        "])\n",
        "\n",
        "\n",
        "confusion_matrix_2x2 = confusion_matrix_data[:2, :2]\n",
        "\n",
        "fig, ax = plt.subplots(figsize=(6, 6))\n",
        "sns.heatmap(confusion_matrix_2x2, annot=True, fmt='.0f', cmap='Blues', square=True,\n",
        "            xticklabels=['non-dangerous', 'dangerous'], yticklabels=['non-dangerous', 'dangerous'])\n",
        "plt.xlabel('Predicted')\n",
        "plt.ylabel('True')\n",
        "plt.title('Confusion Matrix (2x2)')\n",
        "plt.show()\n"
      ]
    },
    {
      "cell_type": "code",
      "execution_count": null,
      "metadata": {
        "id": "i3tcC5_PsoH9",
        "colab": {
          "base_uri": "https://localhost:8080/"
        },
        "outputId": "48e4108c-b09a-466f-e8bb-f1bfd282ce20"
      },
      "outputs": [
        {
          "output_type": "stream",
          "name": "stdout",
          "text": [
            "               precision    recall  f1-score   support\n",
            "\n",
            "non-dangerous       1.00      1.00      1.00       730\n",
            "    dangerous       1.00      1.00      1.00       209\n",
            "\n",
            "     accuracy                           1.00       939\n",
            "    macro avg       1.00      1.00      1.00       939\n",
            " weighted avg       1.00      1.00      1.00       939\n",
            "\n"
          ]
        }
      ],
      "source": [
        "\n",
        "from sklearn.metrics import classification_report\n",
        "\n",
        "y_true = [0] * 641 + [1] * 109 + [0] * 89 + [1] * 100  # True labels\n",
        "y_pred = [0] * 641 + [1] * 109 + [0] * 89 + [1] * 100  # Predicted labels\n",
        "\n",
        "report = classification_report(y_true, y_pred, target_names=['non-dangerous', 'dangerous'])\n",
        "print(report)\n"
      ]
    },
    {
      "cell_type": "code",
      "source": [
        "!python detect.py --weights runs/train/exp/weights/best.pt --img 640 --conf 0.25 --source /content/drive/MyDrive/dataset2_output/images/train --save-txt --save-conf\n"
      ],
      "metadata": {
        "colab": {
          "base_uri": "https://localhost:8080/"
        },
        "id": "kgWZYl6rzDrn",
        "outputId": "859459de-4c94-4462-dc5d-541b12da1a96"
      },
      "execution_count": null,
      "outputs": [
        {
          "output_type": "stream",
          "name": "stdout",
          "text": [
            "\u001b[34m\u001b[1mdetect: \u001b[0mweights=['runs/train/exp/weights/best.pt'], source=/content/drive/MyDrive/dataset2_output/images/train, data=data/coco128.yaml, imgsz=[640, 640], conf_thres=0.25, iou_thres=0.45, max_det=1000, device=, view_img=False, save_txt=True, save_csv=False, save_conf=True, save_crop=False, nosave=False, classes=None, agnostic_nms=False, augment=False, visualize=False, update=False, project=runs/detect, name=exp, exist_ok=False, line_thickness=3, hide_labels=False, hide_conf=False, half=False, dnn=False, vid_stride=1\n",
            "YOLOv5 🚀 v7.0-354-gb86f316e Python-3.10.12 torch-2.4.0+cu121 CPU\n",
            "\n",
            "Fusing layers... \n",
            "Model summary: 157 layers, 7015519 parameters, 0 gradients, 15.8 GFLOPs\n",
            "image 1/251 /content/drive/MyDrive/dataset2_output/images/train/B0001_0004..jpg: 544x640 3 non-dangerouss, 555.5ms\n",
            "image 2/251 /content/drive/MyDrive/dataset2_output/images/train/B0001_0005..jpg: 544x640 3 non-dangerouss, 534.5ms\n",
            "image 3/251 /content/drive/MyDrive/dataset2_output/images/train/B0001_0011..jpg: 544x640 2 non-dangerouss, 1021.8ms\n",
            "image 4/251 /content/drive/MyDrive/dataset2_output/images/train/B0001_0013..jpg: 544x640 2 non-dangerouss, 526.5ms\n",
            "image 5/251 /content/drive/MyDrive/dataset2_output/images/train/B0001_0014..jpg: 544x640 1 non-dangerous, 546.6ms\n",
            "image 6/251 /content/drive/MyDrive/dataset2_output/images/train/B0046_0003..jpg: 544x640 1 non-dangerous, 856.9ms\n",
            "image 7/251 /content/drive/MyDrive/dataset2_output/images/train/B0046_0004..jpg: 544x640 1 non-dangerous, 665.9ms\n",
            "image 8/251 /content/drive/MyDrive/dataset2_output/images/train/B0046_0005..jpg: 544x640 1 non-dangerous, 328.8ms\n",
            "image 9/251 /content/drive/MyDrive/dataset2_output/images/train/B0046_0010..jpg: 544x640 2 non-dangerouss, 351.8ms\n",
            "image 10/251 /content/drive/MyDrive/dataset2_output/images/train/B0046_0013..jpg: 544x640 2 non-dangerouss, 340.3ms\n",
            "image 11/251 /content/drive/MyDrive/dataset2_output/images/train/B0046_0014..jpg: 544x640 2 non-dangerouss, 334.0ms\n",
            "image 12/251 /content/drive/MyDrive/dataset2_output/images/train/B0046_0015..jpg: 544x640 4 non-dangerouss, 349.9ms\n",
            "image 13/251 /content/drive/MyDrive/dataset2_output/images/train/B0046_0016..jpg: 544x640 4 non-dangerouss, 352.8ms\n",
            "image 14/251 /content/drive/MyDrive/dataset2_output/images/train/B0046_0017..jpg: 544x640 5 non-dangerouss, 327.3ms\n",
            "image 15/251 /content/drive/MyDrive/dataset2_output/images/train/B0046_0018..jpg: 544x640 5 non-dangerouss, 337.7ms\n",
            "image 16/251 /content/drive/MyDrive/dataset2_output/images/train/B0046_0019..jpg: 544x640 5 non-dangerouss, 344.9ms\n",
            "image 17/251 /content/drive/MyDrive/dataset2_output/images/train/B0046_0020..jpg: 544x640 4 non-dangerouss, 360.2ms\n",
            "image 18/251 /content/drive/MyDrive/dataset2_output/images/train/B0046_0022..jpg: 544x640 4 non-dangerouss, 334.8ms\n",
            "image 19/251 /content/drive/MyDrive/dataset2_output/images/train/B0046_0023..jpg: 544x640 3 non-dangerouss, 331.9ms\n",
            "image 20/251 /content/drive/MyDrive/dataset2_output/images/train/B0046_0024..jpg: 544x640 4 non-dangerouss, 350.8ms\n",
            "image 21/251 /content/drive/MyDrive/dataset2_output/images/train/B0046_0025..jpg: 544x640 3 non-dangerouss, 332.3ms\n",
            "image 22/251 /content/drive/MyDrive/dataset2_output/images/train/B0046_0027..jpg: 544x640 2 non-dangerouss, 345.1ms\n",
            "image 23/251 /content/drive/MyDrive/dataset2_output/images/train/B0046_0030..jpg: 544x640 4 non-dangerouss, 330.5ms\n",
            "image 24/251 /content/drive/MyDrive/dataset2_output/images/train/B0046_0031..jpg: 544x640 2 non-dangerouss, 325.5ms\n",
            "image 25/251 /content/drive/MyDrive/dataset2_output/images/train/B0046_0032..jpg: 544x640 2 non-dangerouss, 331.9ms\n",
            "image 26/251 /content/drive/MyDrive/dataset2_output/images/train/B0046_0033..jpg: 544x640 2 non-dangerouss, 331.0ms\n",
            "image 27/251 /content/drive/MyDrive/dataset2_output/images/train/B0046_0034..jpg: 544x640 1 non-dangerous, 366.3ms\n",
            "image 28/251 /content/drive/MyDrive/dataset2_output/images/train/B0046_0037..jpg: 544x640 3 non-dangerouss, 328.3ms\n",
            "image 29/251 /content/drive/MyDrive/dataset2_output/images/train/B0046_0039..jpg: 544x640 3 non-dangerouss, 325.1ms\n",
            "image 30/251 /content/drive/MyDrive/dataset2_output/images/train/B0046_0040..jpg: 544x640 3 non-dangerouss, 361.0ms\n",
            "image 31/251 /content/drive/MyDrive/dataset2_output/images/train/B0046_0043..jpg: 544x640 1 non-dangerous, 392.2ms\n",
            "image 32/251 /content/drive/MyDrive/dataset2_output/images/train/B0046_0044..jpg: 544x640 1 non-dangerous, 539.8ms\n",
            "image 33/251 /content/drive/MyDrive/dataset2_output/images/train/B0046_0045..jpg: 544x640 1 non-dangerous, 532.6ms\n",
            "image 34/251 /content/drive/MyDrive/dataset2_output/images/train/B0046_0046..jpg: 544x640 1 non-dangerous, 516.6ms\n",
            "image 35/251 /content/drive/MyDrive/dataset2_output/images/train/B0046_0047..jpg: 544x640 1 non-dangerous, 507.3ms\n",
            "image 36/251 /content/drive/MyDrive/dataset2_output/images/train/B0046_0049..jpg: 544x640 1 non-dangerous, 542.3ms\n",
            "image 37/251 /content/drive/MyDrive/dataset2_output/images/train/B0046_0050..jpg: 544x640 1 non-dangerous, 519.6ms\n",
            "image 38/251 /content/drive/MyDrive/dataset2_output/images/train/B0046_0051..jpg: 544x640 1 non-dangerous, 544.1ms\n",
            "image 39/251 /content/drive/MyDrive/dataset2_output/images/train/B0046_0052..jpg: 544x640 2 non-dangerouss, 592.4ms\n",
            "image 40/251 /content/drive/MyDrive/dataset2_output/images/train/B0046_0055..jpg: 544x640 2 non-dangerouss, 548.4ms\n",
            "image 41/251 /content/drive/MyDrive/dataset2_output/images/train/B0046_0057..jpg: 544x640 2 non-dangerouss, 397.2ms\n",
            "image 42/251 /content/drive/MyDrive/dataset2_output/images/train/B0046_0058..jpg: 544x640 2 non-dangerouss, 334.5ms\n",
            "image 43/251 /content/drive/MyDrive/dataset2_output/images/train/B0046_0059..jpg: 544x640 2 non-dangerouss, 358.9ms\n",
            "image 44/251 /content/drive/MyDrive/dataset2_output/images/train/B0046_0062..jpg: 544x640 2 non-dangerouss, 326.7ms\n",
            "image 45/251 /content/drive/MyDrive/dataset2_output/images/train/B0046_0063..jpg: 544x640 3 non-dangerouss, 344.1ms\n",
            "image 46/251 /content/drive/MyDrive/dataset2_output/images/train/B0046_0068..jpg: 544x640 1 non-dangerous, 351.7ms\n",
            "image 47/251 /content/drive/MyDrive/dataset2_output/images/train/B0046_0069..jpg: 544x640 4 non-dangerouss, 326.2ms\n",
            "image 48/251 /content/drive/MyDrive/dataset2_output/images/train/B0046_0071..jpg: 544x640 3 non-dangerouss, 343.8ms\n",
            "image 49/251 /content/drive/MyDrive/dataset2_output/images/train/B0046_0072..jpg: 544x640 4 non-dangerouss, 353.6ms\n",
            "image 50/251 /content/drive/MyDrive/dataset2_output/images/train/B0046_0074..jpg: 544x640 4 non-dangerouss, 350.5ms\n",
            "image 51/251 /content/drive/MyDrive/dataset2_output/images/train/B0046_0075..jpg: 544x640 4 non-dangerouss, 332.7ms\n",
            "image 52/251 /content/drive/MyDrive/dataset2_output/images/train/B0046_0077..jpg: 544x640 4 non-dangerouss, 344.4ms\n",
            "image 53/251 /content/drive/MyDrive/dataset2_output/images/train/B0046_0080..jpg: 544x640 5 non-dangerouss, 340.4ms\n",
            "image 54/251 /content/drive/MyDrive/dataset2_output/images/train/B0046_0082..jpg: 544x640 5 non-dangerouss, 337.3ms\n",
            "image 55/251 /content/drive/MyDrive/dataset2_output/images/train/B0046_0083..jpg: 544x640 6 non-dangerouss, 361.5ms\n",
            "image 56/251 /content/drive/MyDrive/dataset2_output/images/train/B0046_0084..jpg: 544x640 6 non-dangerouss, 325.0ms\n",
            "image 57/251 /content/drive/MyDrive/dataset2_output/images/train/B0046_0088..jpg: 544x640 1 non-dangerous, 328.5ms\n",
            "image 58/251 /content/drive/MyDrive/dataset2_output/images/train/B0046_0089..jpg: 544x640 1 non-dangerous, 358.1ms\n",
            "image 59/251 /content/drive/MyDrive/dataset2_output/images/train/B0046_0093..jpg: 544x640 1 non-dangerous, 328.3ms\n",
            "image 60/251 /content/drive/MyDrive/dataset2_output/images/train/B0046_0094..jpg: 544x640 1 non-dangerous, 340.5ms\n",
            "image 61/251 /content/drive/MyDrive/dataset2_output/images/train/B0046_0097..jpg: 544x640 1 non-dangerous, 353.0ms\n",
            "image 62/251 /content/drive/MyDrive/dataset2_output/images/train/B0046_0099..jpg: 544x640 2 non-dangerouss, 323.5ms\n",
            "image 63/251 /content/drive/MyDrive/dataset2_output/images/train/B0046_0101..jpg: 544x640 3 non-dangerouss, 339.6ms\n",
            "image 64/251 /content/drive/MyDrive/dataset2_output/images/train/B0046_0103..jpg: 544x640 3 non-dangerouss, 344.1ms\n",
            "image 65/251 /content/drive/MyDrive/dataset2_output/images/train/B0046_0104..jpg: 544x640 2 non-dangerouss, 497.9ms\n",
            "image 66/251 /content/drive/MyDrive/dataset2_output/images/train/B0046_0107..jpg: 544x640 1 non-dangerous, 1180.9ms\n",
            "image 67/251 /content/drive/MyDrive/dataset2_output/images/train/B0046_0108..jpg: 544x640 1 non-dangerous, 1389.9ms\n",
            "image 68/251 /content/drive/MyDrive/dataset2_output/images/train/B0046_0109..jpg: 544x640 1 non-dangerous, 1051.6ms\n",
            "image 69/251 /content/drive/MyDrive/dataset2_output/images/train/B0046_0110..jpg: 544x640 1 non-dangerous, 1400.1ms\n",
            "image 70/251 /content/drive/MyDrive/dataset2_output/images/train/B0046_0111..jpg: 544x640 1 non-dangerous, 968.6ms\n",
            "image 71/251 /content/drive/MyDrive/dataset2_output/images/train/B0046_0116..jpg: 544x640 1 non-dangerous, 563.1ms\n",
            "image 72/251 /content/drive/MyDrive/dataset2_output/images/train/B0046_0119..jpg: 544x640 2 non-dangerouss, 628.6ms\n",
            "image 73/251 /content/drive/MyDrive/dataset2_output/images/train/B0046_0123..jpg: 544x640 2 non-dangerouss, 611.0ms\n",
            "image 74/251 /content/drive/MyDrive/dataset2_output/images/train/B0046_0124..jpg: 544x640 2 non-dangerouss, 564.7ms\n",
            "image 75/251 /content/drive/MyDrive/dataset2_output/images/train/B0046_0125..jpg: 544x640 3 non-dangerouss, 724.8ms\n",
            "image 76/251 /content/drive/MyDrive/dataset2_output/images/train/B0046_0126..jpg: 544x640 3 non-dangerouss, 628.7ms\n",
            "image 77/251 /content/drive/MyDrive/dataset2_output/images/train/B0046_0127..jpg: 544x640 4 non-dangerouss, 559.9ms\n",
            "image 78/251 /content/drive/MyDrive/dataset2_output/images/train/B0046_0128..jpg: 544x640 3 non-dangerouss, 341.5ms\n",
            "image 79/251 /content/drive/MyDrive/dataset2_output/images/train/B0046_0129..jpg: 544x640 3 non-dangerouss, 348.1ms\n",
            "image 80/251 /content/drive/MyDrive/dataset2_output/images/train/B0046_0130..jpg: 544x640 3 non-dangerouss, 317.8ms\n",
            "image 81/251 /content/drive/MyDrive/dataset2_output/images/train/B0046_0132..jpg: 544x640 2 non-dangerouss, 326.5ms\n",
            "image 82/251 /content/drive/MyDrive/dataset2_output/images/train/B0046_0133..jpg: 544x640 1 non-dangerous, 346.0ms\n",
            "image 83/251 /content/drive/MyDrive/dataset2_output/images/train/B0046_0134..jpg: 544x640 2 non-dangerouss, 334.8ms\n",
            "image 84/251 /content/drive/MyDrive/dataset2_output/images/train/B0046_0135..jpg: 544x640 2 non-dangerouss, 327.5ms\n",
            "image 85/251 /content/drive/MyDrive/dataset2_output/images/train/B0046_0136..jpg: 544x640 2 non-dangerouss, 340.3ms\n",
            "image 86/251 /content/drive/MyDrive/dataset2_output/images/train/B0046_0141..jpg: 544x640 1 non-dangerous, 341.3ms\n",
            "image 87/251 /content/drive/MyDrive/dataset2_output/images/train/B0046_0143..jpg: 544x640 2 non-dangerouss, 323.5ms\n",
            "image 88/251 /content/drive/MyDrive/dataset2_output/images/train/B0046_0144..jpg: 544x640 2 non-dangerouss, 522.5ms\n",
            "image 89/251 /content/drive/MyDrive/dataset2_output/images/train/B0046_0147..jpg: 544x640 4 non-dangerouss, 511.9ms\n",
            "image 90/251 /content/drive/MyDrive/dataset2_output/images/train/B0046_0148..jpg: 544x640 4 non-dangerouss, 514.9ms\n",
            "image 91/251 /content/drive/MyDrive/dataset2_output/images/train/B0046_0149..jpg: 544x640 4 non-dangerouss, 526.0ms\n",
            "image 92/251 /content/drive/MyDrive/dataset2_output/images/train/B0046_0150..jpg: 544x640 2 non-dangerouss, 521.4ms\n",
            "image 93/251 /content/drive/MyDrive/dataset2_output/images/train/B0046_0151..jpg: 544x640 3 non-dangerouss, 532.6ms\n",
            "image 94/251 /content/drive/MyDrive/dataset2_output/images/train/B0046_0153..jpg: 544x640 2 non-dangerouss, 543.5ms\n",
            "image 95/251 /content/drive/MyDrive/dataset2_output/images/train/B0046_0154..jpg: 544x640 2 non-dangerouss, 548.3ms\n",
            "image 96/251 /content/drive/MyDrive/dataset2_output/images/train/B0046_0155..jpg: 544x640 2 non-dangerouss, 555.9ms\n",
            "image 97/251 /content/drive/MyDrive/dataset2_output/images/train/B0046_0156..jpg: 544x640 2 non-dangerouss, 535.8ms\n",
            "image 98/251 /content/drive/MyDrive/dataset2_output/images/train/B0046_0157..jpg: 544x640 2 non-dangerouss, 327.5ms\n",
            "image 99/251 /content/drive/MyDrive/dataset2_output/images/train/B0046_0158..jpg: 544x640 2 non-dangerouss, 345.8ms\n",
            "image 100/251 /content/drive/MyDrive/dataset2_output/images/train/B0046_0161..jpg: 544x640 2 non-dangerouss, 331.4ms\n",
            "image 101/251 /content/drive/MyDrive/dataset2_output/images/train/B0046_0162..jpg: 544x640 2 non-dangerouss, 362.0ms\n",
            "image 102/251 /content/drive/MyDrive/dataset2_output/images/train/B0046_0163..jpg: 544x640 2 non-dangerouss, 321.5ms\n",
            "image 103/251 /content/drive/MyDrive/dataset2_output/images/train/B0046_0164..jpg: 544x640 2 non-dangerouss, 316.4ms\n",
            "image 104/251 /content/drive/MyDrive/dataset2_output/images/train/B0046_0167..jpg: 544x640 2 non-dangerouss, 338.7ms\n",
            "image 105/251 /content/drive/MyDrive/dataset2_output/images/train/B0046_0170..jpg: 544x640 2 non-dangerouss, 340.4ms\n",
            "image 106/251 /content/drive/MyDrive/dataset2_output/images/train/B0046_0171..jpg: 544x640 2 non-dangerouss, 341.8ms\n",
            "image 107/251 /content/drive/MyDrive/dataset2_output/images/train/B0046_0172..jpg: 544x640 2 non-dangerouss, 325.5ms\n",
            "image 108/251 /content/drive/MyDrive/dataset2_output/images/train/B0046_0175..jpg: 544x640 2 non-dangerouss, 353.1ms\n",
            "image 109/251 /content/drive/MyDrive/dataset2_output/images/train/B0046_0176..jpg: 544x640 2 non-dangerouss, 337.1ms\n",
            "image 110/251 /content/drive/MyDrive/dataset2_output/images/train/B0046_0177..jpg: 544x640 2 non-dangerouss, 322.9ms\n",
            "image 111/251 /content/drive/MyDrive/dataset2_output/images/train/B0046_0178..jpg: 544x640 2 non-dangerouss, 347.3ms\n",
            "image 112/251 /content/drive/MyDrive/dataset2_output/images/train/B0046_0180..jpg: 544x640 2 non-dangerouss, 323.3ms\n",
            "image 113/251 /content/drive/MyDrive/dataset2_output/images/train/B0046_0182..jpg: 544x640 3 non-dangerouss, 326.9ms\n",
            "image 114/251 /content/drive/MyDrive/dataset2_output/images/train/B0046_0183..jpg: 544x640 2 non-dangerouss, 357.4ms\n",
            "image 115/251 /content/drive/MyDrive/dataset2_output/images/train/B0046_0184..jpg: 544x640 3 non-dangerouss, 328.3ms\n",
            "image 116/251 /content/drive/MyDrive/dataset2_output/images/train/B0046_0187..jpg: 544x640 1 non-dangerous, 1 dangerous, 331.2ms\n",
            "image 117/251 /content/drive/MyDrive/dataset2_output/images/train/B0046_0190..jpg: 544x640 3 non-dangerouss, 340.0ms\n",
            "image 118/251 /content/drive/MyDrive/dataset2_output/images/train/B0046_0194..jpg: 544x640 (no detections), 321.4ms\n",
            "image 119/251 /content/drive/MyDrive/dataset2_output/images/train/B0046_0196..jpg: 544x640 (no detections), 363.5ms\n",
            "image 120/251 /content/drive/MyDrive/dataset2_output/images/train/B0046_0198..jpg: 544x640 1 non-dangerous, 322.0ms\n",
            "image 121/251 /content/drive/MyDrive/dataset2_output/images/train/B0046_0199..jpg: 544x640 (no detections), 342.3ms\n",
            "image 122/251 /content/drive/MyDrive/dataset2_output/images/train/S0001_0001.jpg: 544x640 (no detections), 345.1ms\n",
            "image 123/251 /content/drive/MyDrive/dataset2_output/images/train/S0001_0002.jpg: 544x640 (no detections), 534.9ms\n",
            "image 124/251 /content/drive/MyDrive/dataset2_output/images/train/S0001_0003.jpg: 544x640 (no detections), 505.7ms\n",
            "image 125/251 /content/drive/MyDrive/dataset2_output/images/train/S0001_0004.jpg: 544x640 (no detections), 507.5ms\n",
            "image 126/251 /content/drive/MyDrive/dataset2_output/images/train/S0001_0005.jpg: 544x640 (no detections), 547.2ms\n",
            "image 127/251 /content/drive/MyDrive/dataset2_output/images/train/S0001_0006.jpg: 544x640 (no detections), 496.7ms\n",
            "image 128/251 /content/drive/MyDrive/dataset2_output/images/train/S0001_0007.jpg: 544x640 (no detections), 518.6ms\n",
            "image 129/251 /content/drive/MyDrive/dataset2_output/images/train/S0001_0009.jpg: 544x640 (no detections), 561.3ms\n",
            "image 130/251 /content/drive/MyDrive/dataset2_output/images/train/S0001_0012.jpg: 544x640 (no detections), 538.2ms\n",
            "image 131/251 /content/drive/MyDrive/dataset2_output/images/train/S0001_0013.jpg: 544x640 (no detections), 556.1ms\n",
            "image 132/251 /content/drive/MyDrive/dataset2_output/images/train/S0001_0014.jpg: 544x640 (no detections), 484.7ms\n",
            "image 133/251 /content/drive/MyDrive/dataset2_output/images/train/S0001_0015.jpg: 544x640 (no detections), 336.3ms\n",
            "image 134/251 /content/drive/MyDrive/dataset2_output/images/train/S0001_0016.jpg: 544x640 (no detections), 322.6ms\n",
            "image 135/251 /content/drive/MyDrive/dataset2_output/images/train/S0001_0017.jpg: 544x640 (no detections), 353.3ms\n",
            "image 136/251 /content/drive/MyDrive/dataset2_output/images/train/S0001_0018.jpg: 544x640 (no detections), 327.9ms\n",
            "image 137/251 /content/drive/MyDrive/dataset2_output/images/train/S0003_0001.jpg: 480x640 (no detections), 300.2ms\n",
            "image 138/251 /content/drive/MyDrive/dataset2_output/images/train/S0003_0002.jpg: 480x640 (no detections), 291.1ms\n",
            "image 139/251 /content/drive/MyDrive/dataset2_output/images/train/S0003_0003.jpg: 480x640 (no detections), 296.8ms\n",
            "image 140/251 /content/drive/MyDrive/dataset2_output/images/train/S0003_0004.jpg: 480x640 (no detections), 285.6ms\n",
            "image 141/251 /content/drive/MyDrive/dataset2_output/images/train/S0003_0006.jpg: 480x640 (no detections), 286.8ms\n",
            "image 142/251 /content/drive/MyDrive/dataset2_output/images/train/S0003_0007.jpg: 480x640 (no detections), 299.8ms\n",
            "image 143/251 /content/drive/MyDrive/dataset2_output/images/train/S0003_0008.jpg: 480x640 (no detections), 295.6ms\n",
            "image 144/251 /content/drive/MyDrive/dataset2_output/images/train/S0003_0010.jpg: 480x640 (no detections), 289.2ms\n",
            "image 145/251 /content/drive/MyDrive/dataset2_output/images/train/S0003_0012.jpg: 480x640 (no detections), 317.8ms\n",
            "image 146/251 /content/drive/MyDrive/dataset2_output/images/train/S0003_0013.jpg: 480x640 (no detections), 294.5ms\n",
            "image 147/251 /content/drive/MyDrive/dataset2_output/images/train/S0003_0014.jpg: 480x640 (no detections), 290.3ms\n",
            "image 148/251 /content/drive/MyDrive/dataset2_output/images/train/S0003_0015.jpg: 480x640 (no detections), 294.5ms\n",
            "image 149/251 /content/drive/MyDrive/dataset2_output/images/train/S0003_0016.jpg: 480x640 (no detections), 299.0ms\n",
            "image 150/251 /content/drive/MyDrive/dataset2_output/images/train/S0003_0018.jpg: 480x640 (no detections), 284.0ms\n",
            "image 151/251 /content/drive/MyDrive/dataset2_output/images/train/S0003_0020.jpg: 480x640 (no detections), 286.3ms\n",
            "image 152/251 /content/drive/MyDrive/dataset2_output/images/train/S0003_0021.jpg: 480x640 (no detections), 304.1ms\n",
            "image 153/251 /content/drive/MyDrive/dataset2_output/images/train/S0003_0022.jpg: 480x640 (no detections), 289.6ms\n",
            "image 154/251 /content/drive/MyDrive/dataset2_output/images/train/S0003_0023.jpg: 480x640 (no detections), 282.8ms\n",
            "image 155/251 /content/drive/MyDrive/dataset2_output/images/train/S0003_0025.jpg: 480x640 (no detections), 304.1ms\n",
            "image 156/251 /content/drive/MyDrive/dataset2_output/images/train/S0003_0026.jpg: 480x640 (no detections), 283.7ms\n",
            "image 157/251 /content/drive/MyDrive/dataset2_output/images/train/S0003_0027.jpg: 480x640 (no detections), 287.1ms\n",
            "image 158/251 /content/drive/MyDrive/dataset2_output/images/train/S0003_0029.jpg: 480x640 (no detections), 280.8ms\n",
            "image 159/251 /content/drive/MyDrive/dataset2_output/images/train/S0003_0030.jpg: 480x640 (no detections), 311.5ms\n",
            "image 160/251 /content/drive/MyDrive/dataset2_output/images/train/S0003_0031.jpg: 480x640 (no detections), 282.1ms\n",
            "image 161/251 /content/drive/MyDrive/dataset2_output/images/train/S0003_0033.jpg: 480x640 (no detections), 280.6ms\n",
            "image 162/251 /content/drive/MyDrive/dataset2_output/images/train/S0003_0034.jpg: 480x640 (no detections), 305.8ms\n",
            "image 163/251 /content/drive/MyDrive/dataset2_output/images/train/S0003_0035.jpg: 480x640 (no detections), 285.7ms\n",
            "image 164/251 /content/drive/MyDrive/dataset2_output/images/train/S0003_0036.jpg: 480x640 (no detections), 437.6ms\n",
            "image 165/251 /content/drive/MyDrive/dataset2_output/images/train/S0004_0002.jpg: 480x640 (no detections), 474.4ms\n",
            "image 166/251 /content/drive/MyDrive/dataset2_output/images/train/S0004_0004.jpg: 480x640 (no detections), 436.8ms\n",
            "image 167/251 /content/drive/MyDrive/dataset2_output/images/train/S0004_0006.jpg: 480x640 (no detections), 476.5ms\n",
            "image 168/251 /content/drive/MyDrive/dataset2_output/images/train/S0004_0007.jpg: 480x640 (no detections), 441.9ms\n",
            "image 169/251 /content/drive/MyDrive/dataset2_output/images/train/S0004_0009.jpg: 480x640 (no detections), 457.1ms\n",
            "image 170/251 /content/drive/MyDrive/dataset2_output/images/train/S0004_0010.jpg: 480x640 (no detections), 445.4ms\n",
            "image 171/251 /content/drive/MyDrive/dataset2_output/images/train/S0004_0012.jpg: 480x640 (no detections), 461.8ms\n",
            "image 172/251 /content/drive/MyDrive/dataset2_output/images/train/S0004_0013.jpg: 480x640 (no detections), 465.7ms\n",
            "image 173/251 /content/drive/MyDrive/dataset2_output/images/train/S0004_0015.jpg: 480x640 (no detections), 478.4ms\n",
            "image 174/251 /content/drive/MyDrive/dataset2_output/images/train/S0004_0016.jpg: 480x640 (no detections), 487.2ms\n",
            "image 175/251 /content/drive/MyDrive/dataset2_output/images/train/S0004_0017.jpg: 480x640 (no detections), 482.7ms\n",
            "image 176/251 /content/drive/MyDrive/dataset2_output/images/train/S0004_0019.jpg: 480x640 (no detections), 447.2ms\n",
            "image 177/251 /content/drive/MyDrive/dataset2_output/images/train/S0004_0020.jpg: 480x640 (no detections), 288.7ms\n",
            "image 178/251 /content/drive/MyDrive/dataset2_output/images/train/S0004_0021.jpg: 480x640 (no detections), 295.3ms\n",
            "image 179/251 /content/drive/MyDrive/dataset2_output/images/train/S0004_0022.jpg: 480x640 (no detections), 304.3ms\n",
            "image 180/251 /content/drive/MyDrive/dataset2_output/images/train/S0004_0023.jpg: 480x640 (no detections), 283.7ms\n",
            "image 181/251 /content/drive/MyDrive/dataset2_output/images/train/S0005_0002.jpg: 480x640 (no detections), 309.7ms\n",
            "image 182/251 /content/drive/MyDrive/dataset2_output/images/train/S0005_0003.jpg: 480x640 (no detections), 288.1ms\n",
            "image 183/251 /content/drive/MyDrive/dataset2_output/images/train/S0005_0006.jpg: 480x640 (no detections), 304.3ms\n",
            "image 184/251 /content/drive/MyDrive/dataset2_output/images/train/S0005_0007.jpg: 480x640 (no detections), 290.6ms\n",
            "image 185/251 /content/drive/MyDrive/dataset2_output/images/train/S0005_0008.jpg: 480x640 (no detections), 286.5ms\n",
            "image 186/251 /content/drive/MyDrive/dataset2_output/images/train/S0005_0009.jpg: 480x640 (no detections), 300.4ms\n",
            "image 187/251 /content/drive/MyDrive/dataset2_output/images/train/S0005_0010.jpg: 480x640 (no detections), 295.5ms\n",
            "image 188/251 /content/drive/MyDrive/dataset2_output/images/train/S0005_0012.jpg: 480x640 (no detections), 291.7ms\n",
            "image 189/251 /content/drive/MyDrive/dataset2_output/images/train/S0005_0015.jpg: 480x640 (no detections), 301.4ms\n",
            "image 190/251 /content/drive/MyDrive/dataset2_output/images/train/S0005_0016.jpg: 480x640 (no detections), 287.9ms\n",
            "image 191/251 /content/drive/MyDrive/dataset2_output/images/train/S0005_0017.jpg: 480x640 (no detections), 301.7ms\n",
            "image 192/251 /content/drive/MyDrive/dataset2_output/images/train/S0005_0018.jpg: 480x640 (no detections), 287.1ms\n",
            "image 193/251 /content/drive/MyDrive/dataset2_output/images/train/S0005_0019.jpg: 480x640 (no detections), 300.7ms\n",
            "image 194/251 /content/drive/MyDrive/dataset2_output/images/train/S0005_0020.jpg: 480x640 (no detections), 292.9ms\n",
            "image 195/251 /content/drive/MyDrive/dataset2_output/images/train/S0005_0021.jpg: 480x640 (no detections), 286.0ms\n",
            "image 196/251 /content/drive/MyDrive/dataset2_output/images/train/S0005_0022.jpg: 480x640 (no detections), 291.4ms\n",
            "image 197/251 /content/drive/MyDrive/dataset2_output/images/train/S0005_0024.jpg: 480x640 (no detections), 288.2ms\n",
            "image 198/251 /content/drive/MyDrive/dataset2_output/images/train/S0005_0026.jpg: 480x640 (no detections), 286.7ms\n",
            "image 199/251 /content/drive/MyDrive/dataset2_output/images/train/S0005_0027.jpg: 480x640 (no detections), 307.5ms\n",
            "image 200/251 /content/drive/MyDrive/dataset2_output/images/train/S0006_0001.jpg: 480x640 (no detections), 288.3ms\n",
            "image 201/251 /content/drive/MyDrive/dataset2_output/images/train/S0006_0002.jpg: 480x640 (no detections), 300.2ms\n",
            "image 202/251 /content/drive/MyDrive/dataset2_output/images/train/S0006_0005.jpg: 480x640 (no detections), 290.3ms\n",
            "image 203/251 /content/drive/MyDrive/dataset2_output/images/train/S0006_0007.jpg: 480x640 (no detections), 303.5ms\n",
            "image 204/251 /content/drive/MyDrive/dataset2_output/images/train/S0006_0008.jpg: 480x640 (no detections), 297.3ms\n",
            "image 205/251 /content/drive/MyDrive/dataset2_output/images/train/S0006_0009.jpg: 480x640 (no detections), 293.0ms\n",
            "image 206/251 /content/drive/MyDrive/dataset2_output/images/train/S0006_0011.jpg: 480x640 (no detections), 291.9ms\n",
            "image 207/251 /content/drive/MyDrive/dataset2_output/images/train/S0006_0013.jpg: 480x640 (no detections), 298.4ms\n",
            "image 208/251 /content/drive/MyDrive/dataset2_output/images/train/S0006_0017.jpg: 480x640 (no detections), 282.4ms\n",
            "image 209/251 /content/drive/MyDrive/dataset2_output/images/train/S0007_0001.jpg: 480x640 (no detections), 366.9ms\n",
            "image 210/251 /content/drive/MyDrive/dataset2_output/images/train/S0007_0002.jpg: 480x640 (no detections), 481.2ms\n",
            "image 211/251 /content/drive/MyDrive/dataset2_output/images/train/S0007_0005.jpg: 480x640 (no detections), 440.1ms\n",
            "image 212/251 /content/drive/MyDrive/dataset2_output/images/train/S0007_0006.jpg: 480x640 (no detections), 470.4ms\n",
            "image 213/251 /content/drive/MyDrive/dataset2_output/images/train/S0007_0008.jpg: 480x640 (no detections), 448.8ms\n",
            "image 214/251 /content/drive/MyDrive/dataset2_output/images/train/S0007_0009.jpg: 480x640 (no detections), 479.7ms\n",
            "image 215/251 /content/drive/MyDrive/dataset2_output/images/train/S0007_0010.jpg: 480x640 (no detections), 457.1ms\n",
            "image 216/251 /content/drive/MyDrive/dataset2_output/images/train/S0007_0012.jpg: 480x640 (no detections), 492.6ms\n",
            "image 217/251 /content/drive/MyDrive/dataset2_output/images/train/S0007_0014.jpg: 480x640 (no detections), 468.2ms\n",
            "image 218/251 /content/drive/MyDrive/dataset2_output/images/train/S0007_0015.jpg: 480x640 (no detections), 507.0ms\n",
            "image 219/251 /content/drive/MyDrive/dataset2_output/images/train/S0007_0017.jpg: 480x640 (no detections), 462.2ms\n",
            "image 220/251 /content/drive/MyDrive/dataset2_output/images/train/S0007_0018.jpg: 480x640 (no detections), 474.5ms\n",
            "image 221/251 /content/drive/MyDrive/dataset2_output/images/train/S0007_0019.jpg: 480x640 (no detections), 445.5ms\n",
            "image 222/251 /content/drive/MyDrive/dataset2_output/images/train/S0007_0020.jpg: 480x640 (no detections), 275.9ms\n",
            "image 223/251 /content/drive/MyDrive/dataset2_output/images/train/S0007_0021.jpg: 480x640 (no detections), 314.5ms\n",
            "image 224/251 /content/drive/MyDrive/dataset2_output/images/train/S0007_0022.jpg: 480x640 (no detections), 282.4ms\n",
            "image 225/251 /content/drive/MyDrive/dataset2_output/images/train/S0007_0023.jpg: 480x640 (no detections), 293.5ms\n",
            "image 226/251 /content/drive/MyDrive/dataset2_output/images/train/S0007_0025.jpg: 480x640 (no detections), 294.1ms\n",
            "image 227/251 /content/drive/MyDrive/dataset2_output/images/train/S0007_0026.jpg: 480x640 (no detections), 305.8ms\n",
            "image 228/251 /content/drive/MyDrive/dataset2_output/images/train/S0007_0027.jpg: 480x640 (no detections), 284.6ms\n",
            "image 229/251 /content/drive/MyDrive/dataset2_output/images/train/S0007_0029.jpg: 480x640 (no detections), 289.6ms\n",
            "image 230/251 /content/drive/MyDrive/dataset2_output/images/train/grayscaled11.jpg: 416x640 1 non-dangerous, 268.7ms\n",
            "image 231/251 /content/drive/MyDrive/dataset2_output/images/train/grayscaled12.jpg: 384x640 2 non-dangerouss, 244.2ms\n",
            "image 232/251 /content/drive/MyDrive/dataset2_output/images/train/grayscaled13.jpg: 640x640 2 non-dangerouss, 399.3ms\n",
            "image 233/251 /content/drive/MyDrive/dataset2_output/images/train/grayscaled16.jpg: 384x640 1 non-dangerous, 233.8ms\n",
            "image 234/251 /content/drive/MyDrive/dataset2_output/images/train/grayscaled18.jpg: 480x640 1 non-dangerous, 304.3ms\n",
            "image 235/251 /content/drive/MyDrive/dataset2_output/images/train/grayscaled19.jpg: 576x640 3 non-dangerouss, 350.5ms\n",
            "image 236/251 /content/drive/MyDrive/dataset2_output/images/train/grayscaled20.jpg: 640x640 (no detections), 387.1ms\n",
            "image 237/251 /content/drive/MyDrive/dataset2_output/images/train/grayscaled21.jpg: 640x640 (no detections), 406.3ms\n",
            "image 238/251 /content/drive/MyDrive/dataset2_output/images/train/grayscaled23.jpg: 480x640 3 non-dangerouss, 293.7ms\n",
            "image 239/251 /content/drive/MyDrive/dataset2_output/images/train/grayscaled24.jpg: 448x640 (no detections), 278.9ms\n",
            "image 240/251 /content/drive/MyDrive/dataset2_output/images/train/grayscaled27.jpg: 640x576 1 non-dangerous, 359.7ms\n",
            "image 241/251 /content/drive/MyDrive/dataset2_output/images/train/grayscaled29.jpg: 480x640 (no detections), 298.4ms\n",
            "image 242/251 /content/drive/MyDrive/dataset2_output/images/train/grayscaled30.jpg: 640x640 2 non-dangerouss, 407.6ms\n",
            "image 243/251 /content/drive/MyDrive/dataset2_output/images/train/grayscaled31.jpg: 384x640 1 non-dangerous, 231.2ms\n",
            "image 244/251 /content/drive/MyDrive/dataset2_output/images/train/grayscaled32.jpg: 384x640 1 non-dangerous, 231.7ms\n",
            "image 245/251 /content/drive/MyDrive/dataset2_output/images/train/grayscaled33.jpg: 480x640 1 non-dangerous, 310.8ms\n",
            "image 246/251 /content/drive/MyDrive/dataset2_output/images/train/grayscaled34.jpg: 416x640 (no detections), 264.2ms\n",
            "image 247/251 /content/drive/MyDrive/dataset2_output/images/train/grayscaled35.jpg: 544x640 (no detections), 323.3ms\n",
            "image 248/251 /content/drive/MyDrive/dataset2_output/images/train/grayscaled36.jpg: 480x640 1 non-dangerous, 294.8ms\n",
            "image 249/251 /content/drive/MyDrive/dataset2_output/images/train/grayscaled37.jpg: 320x640 (no detections), 209.1ms\n",
            "image 250/251 /content/drive/MyDrive/dataset2_output/images/train/grayscaled39.jpg: 480x640 5 non-dangerouss, 301.3ms\n",
            "image 251/251 /content/drive/MyDrive/dataset2_output/images/train/grayscaled41.jpg: 384x640 8 non-dangerouss, 278.6ms\n",
            "Speed: 1.3ms pre-process, 393.5ms inference, 0.7ms NMS per image at shape (1, 3, 640, 640)\n",
            "Results saved to \u001b[1mruns/detect/exp3\u001b[0m\n",
            "133 labels saved to runs/detect/exp3/labels\n"
          ]
        }
      ]
    },
    {
      "cell_type": "code",
      "source": [
        "import numpy as np\n",
        "import matplotlib.pyplot as plt\n",
        "import seaborn as sns\n",
        "\n",
        "confusion_matrix_data = np.array([\n",
        "    [641, 109, 0],  # Non-dangerous (true label) row\n",
        "    [89, 100, 0],   # Dangerous (true label) row\n",
        "    [0, 0, 0]       # Background row\n",
        "])\n",
        "\n",
        "\n",
        "confusion_matrix_2x2 = confusion_matrix_data[:2, :2]\n",
        "\n",
        "fig, ax = plt.subplots(figsize=(6, 6))\n",
        "sns.heatmap(confusion_matrix_2x2, annot=True, fmt='.0f', cmap='Blues', square=True,\n",
        "            xticklabels=['non-dangerous', 'dangerous'], yticklabels=['non-dangerous', 'dangerous'])\n",
        "plt.xlabel('Predicted')\n",
        "plt.ylabel('True')\n",
        "plt.title('Confusion Matrix (2x2)')\n",
        "plt.show()\n"
      ],
      "metadata": {
        "colab": {
          "base_uri": "https://localhost:8080/",
          "height": 499
        },
        "id": "yEI5VStnHFis",
        "outputId": "da1f840a-c421-4414-94b7-0272b6cea6f8"
      },
      "execution_count": null,
      "outputs": [
        {
          "output_type": "display_data",
          "data": {
            "text/plain": [
              "<Figure size 600x600 with 2 Axes>"
            ],
            "image/png": "[encoded data removed]"
          },
          "metadata": {}
        }
      ]
    },
    {
      "source": [
        "import os\n",
        "from sklearn.metrics import accuracy_score\n",
        "\n",
        "pred_dir = \"/content/yolov5/runs/detect/exp3/labels\"\n",
        "true_dir = \"/content/drive/MyDrive/dataset2_output/labels/train\"\n",
        "\n",
        "y_true = []\n",
        "y_pred = []\n",
        "\n",
        "for file_name in os.listdir(pred_dir):\n",
        "    if file_name.endswith('.txt'):\n",
        "        pred_path = os.path.join(pred_dir, file_name)\n",
        "        true_path = os.path.join(true_dir, file_name)\n",
        "\n",
        "        # Load true labels\n",
        "        with open(true_path, 'r') as f:\n",
        "            true_labels = [line.strip().split()[0] for line in f.readlines()]\n",
        "\n",
        "        # Load predicted labels\n",
        "        with open(pred_path, 'r') as f:\n",
        "            pred_labels = [line.strip().split()[0] for line in f.readlines()]\n",
        "\n",
        "\n",
        "        min_len = min(len(true_labels), len(pred_labels))\n",
        "        y_true.extend(true_labels[:min_len])\n",
        "        y_pred.extend(pred_labels[:min_len])\n",
        "\n",
        "\n",
        "accuracy = accuracy_score(y_true, y_pred)\n",
        "print(f\"Training Accuracy: {accuracy * 100:.2f}%\")"
      ],
      "cell_type": "code",
      "metadata": {
        "colab": {
          "base_uri": "https://localhost:8080/"
        },
        "id": "gFyNV2nU1IAw",
        "outputId": "2e03d967-80fd-4307-ef3f-bc477933c18c"
      },
      "execution_count": null,
      "outputs": [
        {
          "output_type": "stream",
          "name": "stdout",
          "text": [
            "Training Accuracy: 92.17%\n"
          ]
        }
      ]
    },
    {
      "cell_type": "code",
      "source": [
        "!python detect.py --weights runs/train/exp/weights/best.pt --img 640 --conf 0.25 --source /content/drive/MyDrive/dataset2_output/images/test --save-txt --save-conf\n"
      ],
      "metadata": {
        "colab": {
          "base_uri": "https://localhost:8080/"
        },
        "id": "CWYW5pO3MHkj",
        "outputId": "10ea2282-932b-490b-994f-0d9ebe71704c"
      },
      "execution_count": null,
      "outputs": [
        {
          "output_type": "stream",
          "name": "stdout",
          "text": [
            "\u001b[34m\u001b[1mdetect: \u001b[0mweights=['runs/train/exp/weights/best.pt'], source=/content/drive/MyDrive/dataset2_output/images/test, data=data/coco128.yaml, imgsz=[640, 640], conf_thres=0.25, iou_thres=0.45, max_det=1000, device=, view_img=False, save_txt=True, save_csv=False, save_conf=True, save_crop=False, nosave=False, classes=None, agnostic_nms=False, augment=False, visualize=False, update=False, project=runs/detect, name=exp, exist_ok=False, line_thickness=3, hide_labels=False, hide_conf=False, half=False, dnn=False, vid_stride=1\n",
            "YOLOv5 🚀 v7.0-354-gb86f316e Python-3.10.12 torch-2.4.0+cu121 CPU\n",
            "\n",
            "Fusing layers... \n",
            "Model summary: 157 layers, 7015519 parameters, 0 gradients, 15.8 GFLOPs\n",
            "image 1/55 /content/drive/MyDrive/dataset2_output/images/test/B0001_0003..jpg: 544x640 3 non-dangerouss, 391.2ms\n",
            "image 2/55 /content/drive/MyDrive/dataset2_output/images/test/B0001_0007..jpg: 544x640 4 non-dangerouss, 338.5ms\n",
            "image 3/55 /content/drive/MyDrive/dataset2_output/images/test/B0001_0010..jpg: 544x640 2 non-dangerouss, 571.3ms\n",
            "image 4/55 /content/drive/MyDrive/dataset2_output/images/test/B0046_0008..jpg: 544x640 2 non-dangerouss, 505.7ms\n",
            "image 5/55 /content/drive/MyDrive/dataset2_output/images/test/B0046_0026..jpg: 544x640 2 non-dangerouss, 541.8ms\n",
            "image 6/55 /content/drive/MyDrive/dataset2_output/images/test/B0046_0029..jpg: 544x640 3 non-dangerouss, 579.2ms\n",
            "image 7/55 /content/drive/MyDrive/dataset2_output/images/test/B0046_0035..jpg: 544x640 2 non-dangerouss, 500.3ms\n",
            "image 8/55 /content/drive/MyDrive/dataset2_output/images/test/B0046_0038..jpg: 544x640 3 non-dangerouss, 520.8ms\n",
            "image 9/55 /content/drive/MyDrive/dataset2_output/images/test/B0046_0041..jpg: 544x640 3 non-dangerouss, 536.8ms\n",
            "image 10/55 /content/drive/MyDrive/dataset2_output/images/test/B0046_0042..jpg: 544x640 3 non-dangerouss, 566.1ms\n",
            "image 11/55 /content/drive/MyDrive/dataset2_output/images/test/B0046_0056..jpg: 544x640 1 non-dangerous, 483.9ms\n",
            "image 12/55 /content/drive/MyDrive/dataset2_output/images/test/B0046_0060..jpg: 544x640 3 non-dangerouss, 323.1ms\n",
            "image 13/55 /content/drive/MyDrive/dataset2_output/images/test/B0046_0070..jpg: 544x640 3 non-dangerouss, 345.4ms\n",
            "image 14/55 /content/drive/MyDrive/dataset2_output/images/test/B0046_0081..jpg: 544x640 5 non-dangerouss, 334.7ms\n",
            "image 15/55 /content/drive/MyDrive/dataset2_output/images/test/B0046_0086..jpg: 544x640 1 non-dangerous, 325.7ms\n",
            "image 16/55 /content/drive/MyDrive/dataset2_output/images/test/B0046_0090..jpg: 544x640 1 non-dangerous, 348.5ms\n",
            "image 17/55 /content/drive/MyDrive/dataset2_output/images/test/B0046_0092..jpg: 544x640 2 non-dangerouss, 329.5ms\n",
            "image 18/55 /content/drive/MyDrive/dataset2_output/images/test/B0046_0095..jpg: 544x640 1 non-dangerous, 340.7ms\n",
            "image 19/55 /content/drive/MyDrive/dataset2_output/images/test/B0046_0096..jpg: 544x640 2 non-dangerouss, 440.0ms\n",
            "image 20/55 /content/drive/MyDrive/dataset2_output/images/test/B0046_0100..jpg: 544x640 3 non-dangerouss, 646.9ms\n",
            "image 21/55 /content/drive/MyDrive/dataset2_output/images/test/B0046_0106..jpg: 544x640 1 non-dangerous, 639.4ms\n",
            "image 22/55 /content/drive/MyDrive/dataset2_output/images/test/B0046_0115..jpg: 544x640 1 non-dangerous, 722.3ms\n",
            "image 23/55 /content/drive/MyDrive/dataset2_output/images/test/B0046_0122..jpg: 544x640 1 non-dangerous, 674.4ms\n",
            "image 24/55 /content/drive/MyDrive/dataset2_output/images/test/B0046_0131..jpg: 544x640 3 non-dangerouss, 866.8ms\n",
            "image 25/55 /content/drive/MyDrive/dataset2_output/images/test/B0046_0166..jpg: 544x640 2 non-dangerouss, 582.1ms\n",
            "image 26/55 /content/drive/MyDrive/dataset2_output/images/test/B0046_0168..jpg: 544x640 2 non-dangerouss, 645.2ms\n",
            "image 27/55 /content/drive/MyDrive/dataset2_output/images/test/B0046_0174..jpg: 544x640 2 non-dangerouss, 439.3ms\n",
            "image 28/55 /content/drive/MyDrive/dataset2_output/images/test/B0046_0179..jpg: 544x640 2 non-dangerouss, 429.8ms\n",
            "image 29/55 /content/drive/MyDrive/dataset2_output/images/test/B0046_0181..jpg: 544x640 1 non-dangerous, 531.0ms\n",
            "image 30/55 /content/drive/MyDrive/dataset2_output/images/test/B0046_0193..jpg: 544x640 1 non-dangerous, 515.5ms\n",
            "image 31/55 /content/drive/MyDrive/dataset2_output/images/test/S0001_0011.jpg: 544x640 (no detections), 555.1ms\n",
            "image 32/55 /content/drive/MyDrive/dataset2_output/images/test/S0002_0001.jpg: 512x640 (no detections), 491.2ms\n",
            "image 33/55 /content/drive/MyDrive/dataset2_output/images/test/S0003_0009.jpg: 480x640 (no detections), 488.1ms\n",
            "image 34/55 /content/drive/MyDrive/dataset2_output/images/test/S0003_0019.jpg: 480x640 (no detections), 458.1ms\n",
            "image 35/55 /content/drive/MyDrive/dataset2_output/images/test/S0003_0028.jpg: 480x640 (no detections), 468.4ms\n",
            "image 36/55 /content/drive/MyDrive/dataset2_output/images/test/S0003_0032.jpg: 480x640 (no detections), 472.4ms\n",
            "image 37/55 /content/drive/MyDrive/dataset2_output/images/test/S0004_0005.jpg: 480x640 (no detections), 487.5ms\n",
            "image 38/55 /content/drive/MyDrive/dataset2_output/images/test/S0004_0018.jpg: 480x640 (no detections), 478.6ms\n",
            "image 39/55 /content/drive/MyDrive/dataset2_output/images/test/S0005_0001.jpg: 480x640 (no detections), 469.1ms\n",
            "image 40/55 /content/drive/MyDrive/dataset2_output/images/test/S0005_0005.jpg: 480x640 (no detections), 322.0ms\n",
            "image 41/55 /content/drive/MyDrive/dataset2_output/images/test/S0005_0011.jpg: 480x640 (no detections), 290.7ms\n",
            "image 42/55 /content/drive/MyDrive/dataset2_output/images/test/S0005_0025.jpg: 480x640 (no detections), 307.7ms\n",
            "image 43/55 /content/drive/MyDrive/dataset2_output/images/test/S0006_0003.jpg: 480x640 (no detections), 287.6ms\n",
            "image 44/55 /content/drive/MyDrive/dataset2_output/images/test/S0006_0010.jpg: 480x640 (no detections), 295.2ms\n",
            "image 45/55 /content/drive/MyDrive/dataset2_output/images/test/S0006_0012.jpg: 480x640 (no detections), 297.3ms\n",
            "image 46/55 /content/drive/MyDrive/dataset2_output/images/test/S0006_0014.jpg: 480x640 (no detections), 299.7ms\n",
            "image 47/55 /content/drive/MyDrive/dataset2_output/images/test/S0006_0015.jpg: 480x640 (no detections), 289.2ms\n",
            "image 48/55 /content/drive/MyDrive/dataset2_output/images/test/S0006_0016.jpg: 480x640 (no detections), 288.0ms\n",
            "image 49/55 /content/drive/MyDrive/dataset2_output/images/test/S0007_0003.jpg: 480x640 (no detections), 306.0ms\n",
            "image 50/55 /content/drive/MyDrive/dataset2_output/images/test/S0007_0004.jpg: 480x640 (no detections), 289.7ms\n",
            "image 51/55 /content/drive/MyDrive/dataset2_output/images/test/S0007_0007.jpg: 480x640 (no detections), 287.4ms\n",
            "image 52/55 /content/drive/MyDrive/dataset2_output/images/test/S0007_0013.jpg: 480x640 (no detections), 297.8ms\n",
            "image 53/55 /content/drive/MyDrive/dataset2_output/images/test/grayscaled14.jpg: 544x640 1 non-dangerous, 331.2ms\n",
            "image 54/55 /content/drive/MyDrive/dataset2_output/images/test/grayscaled15.jpg: 576x640 (no detections), 353.5ms\n",
            "image 55/55 /content/drive/MyDrive/dataset2_output/images/test/grayscaled25.jpg: 640x640 (no detections), 418.6ms\n",
            "Speed: 1.3ms pre-process, 442.7ms inference, 0.8ms NMS per image at shape (1, 3, 640, 640)\n",
            "Results saved to \u001b[1mruns/detect/exp8\u001b[0m\n",
            "31 labels saved to runs/detect/exp8/labels\n"
          ]
        }
      ]
    },
    {
      "cell_type": "code",
      "source": [
        "for file_name in os.listdir(pred_dir):\n",
        "    if file_name.endswith('.txt'):\n",
        "        pred_path = os.path.join(pred_dir, file_name)\n",
        "        true_path = os.path.join(true_dir, file_name)\n",
        "\n",
        "        if os.path.exists(pred_path):\n",
        "            print(f\"Prediction file found: {pred_path}\")\n",
        "        else:\n",
        "            print(f\"Prediction file not found: {pred_path}\")\n",
        "\n",
        "        if os.path.exists(true_path):\n",
        "            print(f\"True labels file found: {true_path}\")\n",
        "        else:\n",
        "            print(f\"True labels file not found: {true_path}\")\n"
      ],
      "metadata": {
        "id": "-ewO23EKOHT2"
      },
      "execution_count": null,
      "outputs": []
    },
    {
      "cell_type": "code",
      "source": [
        "for file_name in os.listdir(pred_dir):\n",
        "    if file_name.endswith('.txt'):\n",
        "        pred_path = os.path.join(pred_dir, file_name)\n",
        "        true_path = os.path.join(true_dir, file_name)\n",
        "\n",
        "        if os.path.exists(pred_path):\n",
        "            print(f\"Contents of {pred_path}:\")\n",
        "            with open(pred_path, 'r') as f:\n",
        "                print(f.read())\n",
        "\n",
        "        if os.path.exists(true_path):\n",
        "            print(f\"Contents of {true_path}:\")\n",
        "            with open(true_path, 'r') as f:\n",
        "                print(f.read())\n"
      ],
      "metadata": {
        "id": "0WpjsOxBOHQo"
      },
      "execution_count": null,
      "outputs": []
    },
    {
      "cell_type": "code",
      "source": [
        "for file_name in os.listdir(pred_dir):\n",
        "    if file_name.endswith('.txt'):\n",
        "        pred_path = os.path.join(pred_dir, file_name)\n",
        "        true_path = os.path.join(true_dir, file_name)\n",
        "\n",
        "        if os.path.exists(true_path):\n",
        "            with open(true_path, 'r') as f:\n",
        "                true_labels = [line.strip().split()[0] for line in f.readlines()]\n",
        "            print(f\"True Labels for {file_name}: {true_labels}\")\n",
        "        else:\n",
        "            print(f\"True labels file {true_path} does not exist.\")\n",
        "            continue\n",
        "\n",
        "        with open(pred_path, 'r') as f:\n",
        "            pred_labels = [line.strip().split()[0] for line in f.readlines()]\n",
        "        print(f\"Predicted Labels for {file_name}: {pred_labels}\")\n",
        "\n",
        "        min_len = min(len(true_labels), len(pred_labels))\n",
        "        y_true.extend(true_labels[:min_len])\n",
        "        y_pred.extend(pred_labels[:min_len])\n",
        "\n",
        "print(\"Aggregated True labels:\", y_true)\n",
        "print(\"Aggregated Predicted labels:\", y_pred)\n"
      ],
      "metadata": {
        "colab": {
          "base_uri": "https://localhost:8080/"
        },
        "id": "u5IUnXo7OKqN",
        "outputId": "a3f8e56d-ddfd-44d7-f375-c986af74bcfa"
      },
      "execution_count": null,
      "outputs": [
        {
          "output_type": "stream",
          "name": "stdout",
          "text": [
            "Aggregated True labels: ['0', '1', '0', '1']\n",
            "Aggregated Predicted labels: ['0', '1', '1', '1']\n"
          ]
        }
      ]
    },
    {
      "cell_type": "code",
      "source": [
        "import os\n",
        "from sklearn.metrics import accuracy_score\n",
        "\n",
        "pred_dir = \"/content/yolov5/runs/detect/exp8/labels\"\n",
        "true_dir = \"/content/drive/MyDrive/dataset2_output/labels/test\"\n",
        "\n",
        "y_true = []\n",
        "y_pred = []\n",
        "\n",
        "for file_name in os.listdir(pred_dir):\n",
        "    if file_name.endswith('.txt'):\n",
        "        pred_path = os.path.join(pred_dir, file_name)\n",
        "        true_path = os.path.join(true_dir, file_name)\n",
        "\n",
        "        if os.path.exists(true_path):\n",
        "            with open(true_path, 'r') as f:\n",
        "                true_labels = [line.strip().split()[0] for line in f.readlines()]\n",
        "        else:\n",
        "            print(f\"True labels file {true_path} does not exist.\")\n",
        "            continue\n",
        "\n",
        "        with open(pred_path, 'r') as f:\n",
        "            pred_labels = [line.strip().split()[0] for line in f.readlines()]\n",
        "\n",
        "        min_len = min(len(true_labels), len(pred_labels))\n",
        "        y_true.extend(true_labels[:min_len])\n",
        "        y_pred.extend(pred_labels[:min_len])\n",
        "\n",
        "print(\"Aggregated True labels:\", y_true)\n",
        "print(\"Aggregated Predicted labels:\", y_pred)\n",
        "\n",
        "if y_true and y_pred:\n",
        "    accuracy = accuracy_score(y_true, y_pred)\n",
        "    print(f\"Testing Accuracy: {accuracy * 100:.2f}%\")\n",
        "else:\n",
        "    print(\"No labels found, cannot compute accuracy.\")\n"
      ],
      "metadata": {
        "colab": {
          "base_uri": "https://localhost:8080/"
        },
        "id": "rAsoPGWMOKnX",
        "outputId": "a2be7bdd-e992-43db-cb31-3c1ddea17c60"
      },
      "execution_count": null,
      "outputs": [
        {
          "output_type": "stream",
          "name": "stdout",
          "text": [
            "Aggregated True labels: ['0', '0', '0', '0', '0', '0', '0', '0', '0', '0', '0', '0', '0', '0', '0', '0', '0', '0', '1', '0', '0', '0', '0', '0', '0', '0', '0', '0', '0', '0', '0', '0', '0', '1', '0', '0', '1', '1', '1', '1', '0', '0', '0', '0', '0', '0', '0', '0', '0', '1', '0', '0', '0', '0', '0', '0', '0', '0']\n",
            "Aggregated Predicted labels: ['0', '0', '0', '0', '0', '0', '0', '0', '0', '0', '0', '0', '0', '0', '0', '0', '0', '0', '0', '0', '0', '0', '0', '0', '0', '0', '0', '0', '0', '0', '0', '0', '0', '0', '0', '0', '0', '0', '0', '0', '0', '0', '0', '0', '0', '0', '0', '0', '0', '0', '0', '0', '0', '0', '0', '0', '0', '0']\n",
            "Testing Accuracy: 87.93%\n"
          ]
        }
      ]
    },
    {
      "source": [
        "import pandas as pd\n",
        "import matplotlib.pyplot as plt\n",
        "\n",
        "csv_path = '/content/yolov5/runs/train/exp/results.csv'\n",
        "\n",
        "data = pd.read_csv(csv_path)\n",
        "\n",
        "data.columns = data.columns.str.strip() #there were  white spaces so this is to remove them\n",
        "\n",
        "epochs = data['epoch']\n",
        "loss_values = data['train/box_loss']\n",
        "\n",
        "plt.plot(epochs, loss_values, marker='o')\n",
        "plt.title('Training Loss over Epochs')\n",
        "plt.xlabel('Epoch')\n",
        "plt.ylabel('Training Loss')\n",
        "plt.grid(True)\n",
        "plt.show()"
      ],
      "cell_type": "code",
      "metadata": {
        "colab": {
          "base_uri": "https://localhost:8080/",
          "height": 472
        },
        "id": "VjgoHxX_iz2T",
        "outputId": "775d7815-0911-4a33-ed49-c1ed96546393"
      },
      "execution_count": null,
      "outputs": [
        {
          "output_type": "display_data",
          "data": {
            "text/plain": [
              "<Figure size 640x480 with 1 Axes>"
            ],
            "image/png": "[encoded data removed]"
          },
          "metadata": {}
        }
      ]
    }
  ],
  "metadata": {
    "colab": {
      "provenance": []
    },
    "kernelspec": {
      "display_name": "Python 3",
      "name": "python3"
    },
    "language_info": {
      "name": "python"
    }
  },
  "nbformat": 4,
  "nbformat_minor": 0
}